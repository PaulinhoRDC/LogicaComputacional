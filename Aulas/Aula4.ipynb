{
 "cells": [
  {
   "cell_type": "markdown",
   "metadata": {},
   "source": [
    "# Problemas de alocação\n",
    "\n",
    "Os problemas de alocação modelam uma relação entre dois tipos de entidades: *compromissos* e *recursos*. Adicionalmente, as restrições sobre a alocação de recursos a compromissos classificam-se em dois tipos: *obrigações* e *limitações*.\n",
    "\n",
    "Nesta aula vamos considerar um problema de alocação. Pretende-se que faça a modelação do problema em Programação Inteira e que use o Z3 para os resolver.\n",
    "\n",
    "Em geral, num solver para programação inteira todas as restrições devem ser equações lineares da forma $a_1 \\cdot x_1 + \\ldots a_n \\cdot x_n \\sim b$ onde $a_1, \\ldots, a_n, b$ são constantes inteiras, $x_1, \\ldots, x_n$ são variáveis inteiras e $\\sim$ é um dos operadores de comparação $<,\\leq,=,\\geq,>$. Nesta (e na próxima) aula vamos tentar usar apenas este tipo de restrições para que as soluções desenvolvidas possam ser implementadas também noutros solveres para programação inteira, como por exemplo o SCIP."
   ]
  },
  {
   "cell_type": "code",
   "execution_count": 83,
   "metadata": {},
   "outputs": [],
   "source": [
    "from z3 import *"
   ]
  },
  {
   "cell_type": "markdown",
   "metadata": {},
   "source": [
    "## Horário de um centro de estudos\n",
    "\n",
    "Um centro de estudos possui $S$ salas de aula, $P$ professores, e está aberto $H$ horas por dia, durante $D$ dias na semana.\n",
    "\n",
    "O centro de estudos funciona com as seguintes regras:\n",
    "- Cada professor não pode dar mais do que $C$ horas por dia.\n",
    "- Todos os professores do centro devem ter uma carga horária semanal parecida (diferença máxima de 2 horas).\n",
    "- Não é permitido mais do que um professor por sala.\n",
    "- Alocações contíguas do mesmo professor têm de ser na mesma sala.\n",
    "\n",
    "Pretende-se estabelecer um horário para o centro de estudos que permita ter um número mínimo de aulas $N$ por semana."
   ]
  },
  {
   "cell_type": "markdown",
   "metadata": {},
   "source": [
    "### Análise do problema\n",
    "\n",
    "Este é um problema de alocação. Pretende-se alocar professores a salas de aula, ao longo da semana, sendo o tempo de ocupação das salas de uma hora. \n",
    "\n",
    "Existem $P$ professores, que podemos identificar por um índice $p \\in [0..P\\!-\\!1]$, e podemos identificar cada sala disponível num dado dia, a uma dada hora, por um triplo $(s,d,h) \\in [0..S\\!-\\!1]\\times[0..D\\!-\\!1]\\times[0..H\\!-\\!1]$.\n",
    "\n",
    "Vamos usar uma família $x_{p,s,d,h}$ de variáveis binárias (i.e., que assumem valores inteiros $\\{0,1\\}$), com a seguinte semântica\n",
    "\n",
    "$$x_{p,s,d,h} == 1  \\quad \\mbox{se e só se} \\quad \\mbox{o professor $p$ for alocado à sala $s$, no dia $d$, à hora $h$.}$$\n",
    "\n",
    "Estas $P\\times S\\times D\\times H$ variáveis são convenientemente representadas numa matriz $X$ instanciável com valores $\\{0,1\\}^{P\\times S\\times D\\times H}$, a que se costuma chamar *matriz de alocação*.\n",
    "\n",
    "Destaca-se ainda o seguinte:\n",
    "\n",
    "**Limitações** (que impõem limites máximos à alocação)\n",
    "\n",
    "1. A carga horária diária máxima de cada professor é $C$.\n",
    "2. Cada sala tem alocado, no máximo, um professor.\n",
    "3. Em cada dia e hora, cada professor é alocado 0 ou 1 vezes.\n",
    "4. No mesmo dia duas alocações contíguas do mesmo professor têm de ser na mesma sala.\n",
    "\n",
    "\n",
    "**Obrigações** (que impõem limites mínimos à alocação)\n",
    "\n",
    "5. Todos os professores têm uma carga horaria semanal parecida (diferença máxima de 2 horas).\n",
    "6. O número mínimo de aulas por semana é $N$."
   ]
  },
  {
   "cell_type": "markdown",
   "metadata": {},
   "source": [
    "### Implementação\n",
    "\n",
    "Começamos por inicializar o solver *horario* e definir os valores para as constantes $S$, $P$, $H$, $D$, $C$ e $N$."
   ]
  },
  {
   "cell_type": "code",
   "execution_count": 84,
   "metadata": {},
   "outputs": [],
   "source": [
    "horario = Solver()\n",
    "\n",
    "S, P, H, D, C, N = 1, 2, 6, 5, 4, 21\n",
    "#S, P, H, D, C, N = 1, 2, 6, 5, 4, 35\n",
    "#S, P, H, D, C, N = 2, 3, 8, 4, 6, 40"
   ]
  },
  {
   "cell_type": "markdown",
   "metadata": {},
   "source": [
    "Em seguida, declaramos a matriz de alocação, $X$, e uma variável $T$ que irá representar a carga horária semanal mínima de cada professor (com as restrições adequadas)."
   ]
  },
  {
   "cell_type": "markdown",
   "metadata": {},
   "source": [
    "### Exercício 1\n",
    "\n",
    "Complete a declaração da matriz de alocação $X$ como um dicionário."
   ]
  },
  {
   "cell_type": "code",
   "execution_count": 85,
   "metadata": {},
   "outputs": [],
   "source": [
    "X={}\n",
    "for p in range(P):\n",
    "    for s in range(S):\n",
    "        for d in range(D):\n",
    "            for h in range(H):\n",
    "                X[p,s,d,h]=Int(str(p)+'_'+str(s)+'_'+str(d)+'_'+str(h))\n",
    "                horario.add(X[p,s,d,h]>=0,X[p,s,d,h]<=1)\n",
    "T=Int(\"T\")\n",
    "horario.add(T>=0,T<=D*C)\n",
    "                \n",
    "# completar"
   ]
  },
  {
   "cell_type": "markdown",
   "metadata": {},
   "source": [
    "Passamos agora à modelação das restrições e à sua introdução no Z3.\n",
    "\n",
    "A restrição\n",
    "\n",
    "1. A carga horária diaria máxima de cada professor é $C$\n",
    "\n",
    "pode expressar-se da seguinte forma:\n",
    "\n",
    "$$\\forall_{d< D} \\cdot \\forall_{p< P} \\cdot \\quad \\sum_{h< H,\\,s< S} x_{p,s,d,h} \\leq C$$"
   ]
  },
  {
   "cell_type": "code",
   "execution_count": 86,
   "metadata": {},
   "outputs": [],
   "source": [
    "for d in range(D):\n",
    "    for p in range(P):\n",
    "        horario.add(Sum([X[p,s,d,h] for h in range(H) for s in range(S)]) <= C)"
   ]
  },
  {
   "cell_type": "markdown",
   "metadata": {},
   "source": [
    "### Exercício 2\n",
    "\n",
    "Apresente as fórmulas que modelam as restantes restrições e acrescente-as ao problema `horario`.\n",
    "\n",
    "2. Cada sala tem alocada, no máximo, um professor.\n",
    "\n",
    "$$\n",
    "\\forall_d \\cdot \\forall_h \\cdot \\forall_s \\cdot \\quad \\sum_p X_{p,s,d,h} \\leq 1\n",
    "$$\n",
    "\n"
   ]
  },
  {
   "cell_type": "code",
   "execution_count": 87,
   "metadata": {},
   "outputs": [],
   "source": [
    "# completar\n",
    "for d in range(D):\n",
    "    for h in range(H):\n",
    "        for s in range(S):\n",
    "            horario.add(Sum([X[p,s,d,h] for p in range(P)])<=1)"
   ]
  },
  {
   "cell_type": "markdown",
   "metadata": {},
   "source": [
    "3. Em cada dia e hora, cada professor é alocado 0 ou 1 vezes.\n",
    "$$\n",
    "\\forall_d \\cdot \\forall_h \\cdot \\forall_p \\cdot \\quad \\sum_s X_{p,s,d,h} \\leq 1\n",
    "$$"
   ]
  },
  {
   "cell_type": "code",
   "execution_count": 88,
   "metadata": {},
   "outputs": [],
   "source": [
    "# completar\n",
    "for d in range(D):\n",
    "    for h in range(H):\n",
    "        for p in range(P):\n",
    "            horario.add(Sum([X[p,s,d,h] for s in range(S)])<=1)"
   ]
  },
  {
   "cell_type": "markdown",
   "metadata": {},
   "source": [
    "4. Todos os professores têm uma carga horaria semanal parecida (diferença máxima de 2 horas).\n",
    "$$\n",
    "\\forall_p \\cdot \\quad T \\leq \\sum_{s,d,h} X_{p,s,d,h} \\leq T+2\n",
    "$$"
   ]
  },
  {
   "cell_type": "code",
   "execution_count": 89,
   "metadata": {},
   "outputs": [],
   "source": [
    "# completar\n",
    "for p in range(P):\n",
    "    horario.add(Sum([X[p,s,d,h] for d in range(D) for h in range(H) for s in range(S)])>=T)\n",
    "    horario.add(Sum([X[p,s,d,h] for d in range(D) for h in range(H) for s in range(S)])<=T+2)"
   ]
  },
  {
   "cell_type": "markdown",
   "metadata": {},
   "source": [
    "5. No mesmo dia duas alocações contíguas do mesmo professor têm de ser na mesma sala.\n",
    "$$\n",
    "\\forall_p \\cdot \\forall_d \\cdot \\forall_{h<H-1} \\cdot \\forall_s \\cdot \\forall_{s' \\neq s} \\cdot X_{p,s,d,h} + X_{p,s',d,h+1} \\leq 1\n",
    "$$\n"
   ]
  },
  {
   "cell_type": "code",
   "execution_count": 90,
   "metadata": {},
   "outputs": [],
   "source": [
    "# completar\n",
    "for p in range(P):\n",
    "    for d in range(D):\n",
    "        for h in range(H-1):\n",
    "            for s in range(S):\n",
    "                for s_ in range(S):\n",
    "                    if s!=s_:\n",
    "                        horario.add(X[p,s,d,h]+X[p,s_,d,h+1]<=1)"
   ]
  },
  {
   "cell_type": "markdown",
   "metadata": {},
   "source": [
    "6. O número mínimo de aulas por semana é $N$.\n",
    "$$\n",
    "\\sum_{p,s,d,h} X_{p,s,d,h} \\geq N\n",
    "$$\n"
   ]
  },
  {
   "cell_type": "code",
   "execution_count": 91,
   "metadata": {},
   "outputs": [],
   "source": [
    "# completar\n",
    "horario.add(Sum(list(X.values()))>=N)"
   ]
  },
  {
   "cell_type": "markdown",
   "metadata": {},
   "source": [
    "### Exercício 3\n",
    "\n",
    "Finalize a resolução do problema procurando uma solução, e imprimindo o número de aulas por semana, caso exista."
   ]
  },
  {
   "cell_type": "code",
   "execution_count": 96,
   "metadata": {},
   "outputs": [
    {
     "name": "stdout",
     "output_type": "stream",
     "text": [
      "sat\n",
      "21\n"
     ]
    }
   ],
   "source": [
    "# completar\n",
    "r=horario.check()\n",
    "print(r)\n",
    "if r== sat:\n",
    "    m=horario.model()\n",
    "    print(m.eval(Sum(list(X.values()))))"
   ]
  },
  {
   "cell_type": "markdown",
   "metadata": {},
   "source": [
    "### Exercício 4\n",
    "\n",
    "Defina funções para construir os horarios de professores e salas individuais, e para apresentar de forma legível esses horários."
   ]
  },
  {
   "cell_type": "code",
   "execution_count": 97,
   "metadata": {},
   "outputs": [
    {
     "name": "stdout",
     "output_type": "stream",
     "text": [
      "Professor 0\n",
      "Dia 1 Hora 2 Sala 0\n",
      "Dia 1 Hora 3 Sala 0\n",
      "Dia 1 Hora 4 Sala 0\n",
      "Dia 1 Hora 5 Sala 0\n",
      "Dia 2 Hora 1 Sala 0\n",
      "Dia 2 Hora 2 Sala 0\n",
      "Dia 3 Hora 4 Sala 0\n",
      "Dia 3 Hora 5 Sala 0\n",
      "Dia 4 Hora 0 Sala 0\n",
      "Dia 4 Hora 1 Sala 0\n",
      "Professor 1\n",
      "Dia 0 Hora 5 Sala 0\n",
      "Dia 1 Hora 0 Sala 0\n",
      "Dia 1 Hora 1 Sala 0\n",
      "Dia 2 Hora 4 Sala 0\n",
      "Dia 3 Hora 0 Sala 0\n",
      "Dia 3 Hora 1 Sala 0\n",
      "Dia 3 Hora 2 Sala 0\n",
      "Dia 3 Hora 3 Sala 0\n",
      "Dia 4 Hora 2 Sala 0\n",
      "Dia 4 Hora 4 Sala 0\n",
      "Dia 4 Hora 5 Sala 0\n",
      "Sala 0\n",
      "Dia 0 Hora 5 Professor 1\n",
      "Dia 1 Hora 0 Professor 1\n",
      "Dia 1 Hora 1 Professor 1\n",
      "Dia 1 Hora 2 Professor 0\n",
      "Dia 1 Hora 3 Professor 0\n",
      "Dia 1 Hora 4 Professor 0\n",
      "Dia 1 Hora 5 Professor 0\n",
      "Dia 2 Hora 1 Professor 0\n",
      "Dia 2 Hora 2 Professor 0\n",
      "Dia 2 Hora 4 Professor 1\n",
      "Dia 3 Hora 0 Professor 1\n",
      "Dia 3 Hora 1 Professor 1\n",
      "Dia 3 Hora 2 Professor 1\n",
      "Dia 3 Hora 3 Professor 1\n",
      "Dia 3 Hora 4 Professor 0\n",
      "Dia 3 Hora 5 Professor 0\n",
      "Dia 4 Hora 0 Professor 0\n",
      "Dia 4 Hora 1 Professor 0\n",
      "Dia 4 Hora 2 Professor 1\n",
      "Dia 4 Hora 4 Professor 1\n",
      "Dia 4 Hora 5 Professor 1\n"
     ]
    }
   ],
   "source": [
    "# completar\n",
    "for p in range(P):\n",
    "    print(\"Professor\",p)\n",
    "    for d in range(D):\n",
    "        for h in range(H):\n",
    "            for s in range(S):\n",
    "                if m[X[p,s,d,h]]==1:\n",
    "                    print(\"Dia\",d,\"Hora\",h,\"Sala\",s)\n",
    "for s in range(S):\n",
    "    print(\"Sala\",s)\n",
    "    for d in range(D):\n",
    "        for h in range(H):\n",
    "            for p in range(P):\n",
    "                if m[X[p,s,d,h]]==1:\n",
    "                    print(\"Dia\",d,\"Hora\",h,\"Professor\",p)                    \n"
   ]
  },
  {
   "cell_type": "markdown",
   "metadata": {},
   "source": [
    "### Exercício 5\n",
    "\n",
    "Explore o comportamento do modelo pela variação dos parâmetros $S$, $P$, $H$, $D$, $C$ e $N$."
   ]
  },
  {
   "cell_type": "markdown",
   "metadata": {},
   "source": [
    "### Exercício 6\n",
    "\n",
    "Queremos agora acrescentar a seguinte regra no funcionamento do centro de estudos:\n",
    "\n",
    "> Cada professor tem de ter um dia da semana em que não dá aulas.\n",
    "\n",
    "Esta *obrigação* poderia ser expressa matematicamente, de forma direta, por\n",
    "$$\n",
    "\\forall_{p<P}.\\exists_{d<D}. \\quad \\sum_{s<S,h<H} x_{p,s,d,h} = 0\n",
    "$$\n",
    "ou, em alternativa, pela seguinte expressão\n",
    "$$\n",
    "\\forall_{p<P}. \\quad \\bigvee_{d<D} \\big(\\sum_{s<S,h<H} x_{p,s,d,h} = 0\\big) \n",
    "$$\n",
    "\n",
    "Contudo a disjunção não tem uma representação direta nos solvers para programação inteira. Para a implementar podemos acrescentar uma família de variáveis binárias $y_{p,d}$ que indicam se o professor $p$ dá aulas no dia $d$, com a seguinte restrição que limita o número máximo de dias em que o professor dá aulas.\n",
    "\n",
    "$$\\forall_{p<P} \\cdot \\quad \\sum_{d<D} y_{p,d} < D $$"
   ]
  },
  {
   "cell_type": "markdown",
   "metadata": {},
   "source": [
    "O valor de  $y_{p,d}$ deve também de alguma forma limitar superiormente as aulas que o professor $p$ dá no dia $d$.\n",
    "Apresente uma fórmula que modele esta nova limitação.\n",
    "$$\n",
    "\\forall_p \\cdot \\forall_h \\cdot \\quad \\sum_{s,h} X_{p,s,d,h} \\leq y_{p,d} X C\n",
    "$$"
   ]
  },
  {
   "cell_type": "code",
   "execution_count": 92,
   "metadata": {},
   "outputs": [],
   "source": [
    "# completar\n",
    "Y={}\n",
    "for p in range(P):\n",
    "    for h in range(H):\n",
    "        Y[p,h]=Int(str((p,h)))\n",
    "        horario.add(Y[p,h] >=0 , Y[p,h]<=1)\n",
    "        horario.add(Sum([X[p,s,d,h] for h in range(H) for s in range(S)])<=C*Y[p,h])"
   ]
  },
  {
   "cell_type": "markdown",
   "metadata": {},
   "source": [
    "Acrescente agora estas fórmulas ao problema `horario`, e encontre nova solução."
   ]
  },
  {
   "cell_type": "code",
   "execution_count": null,
   "metadata": {},
   "outputs": [],
   "source": [
    "# completar"
   ]
  }
 ],
 "metadata": {
  "kernelspec": {
   "display_name": "Python 3",
   "language": "python",
   "name": "python3"
  },
  "language_info": {
   "codemirror_mode": {
    "name": "ipython",
    "version": 3
   },
   "file_extension": ".py",
   "mimetype": "text/x-python",
   "name": "python",
   "nbconvert_exporter": "python",
   "pygments_lexer": "ipython3",
   "version": "3.8.3"
  }
 },
 "nbformat": 4,
 "nbformat_minor": 2
}
