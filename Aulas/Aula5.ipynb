{
 "cells": [
  {
   "cell_type": "markdown",
   "metadata": {},
   "source": [
    "# Problemas de incidência\n",
    "\n",
    "Uma versão particular dos problemas de alocação são os *problemas de incidência*. Genericamente estes problemas estão ligados aos conjuntos que é possível  formar com os elementos de um dado universo finito.\n",
    "\n",
    "É frequente usar nestes problemas uma matriz binária $A$ com a seguinte semântica:\n",
    "\n",
    "> $A_{i,j} = 1 \\quad$ se e só se $\\quad$ o elemento $i$ do universo está contido no conjunto $j$.\n",
    "\n",
    "Estas matrizes chamam-se *matrizes de incidência* e daí resulta o nome genérico para estes problemas."
   ]
  },
  {
   "cell_type": "markdown",
   "metadata": {},
   "source": [
    "## Programação Inteira em Z3\n",
    "\n",
    "Para utilizar o Z3 como solver de programação inteira (restrições em aritmética linear inteira mais critério de optimização), deve utilizar o construtor `Optimize` para criar uma instância vazia de um solver (em vez do construtor `Solver`). Para definir o critério de optimização deve utilizar os métodos `minimize` ou `maximize`, passando como parâmetro a função objectivo. Por exemplo, para maximizar a função $x + y$ sujeita às restrições $x < 2$ e $y - x < 1$ podemos usar o Z3 da seguinte forma."
   ]
  },
  {
   "cell_type": "code",
   "execution_count": 1,
   "metadata": {},
   "outputs": [
    {
     "name": "stdout",
     "output_type": "stream",
     "text": [
      "sat\n",
      "[y = 1, x = 1]\n"
     ]
    }
   ],
   "source": [
    "from z3 import *\n",
    "\n",
    "solver = Optimize()\n",
    "x = Int(\"x\")\n",
    "y = Int(\"y\")\n",
    "solver.add(x < 2)\n",
    "solver.add(y - x < 1)\n",
    "solver.maximize(x+y)\n",
    "print(solver.check())\n",
    "print(solver.model())"
   ]
  },
  {
   "cell_type": "markdown",
   "metadata": {},
   "source": [
    "Se quisermos minimizar a mesma função objectivo com as mesmas restrições, temos um problema de optimização *unbounded*. Para termos a certeza se é este o caso, devemos usar os métodos `lower` ou `upper` para confirmar os valores mínimos ou máximos encontrados para a função objectivo. Programaticamente podemos testar se estes valores são diferentes de infinito usando, por exemplo, a função `is_int_value`."
   ]
  },
  {
   "cell_type": "code",
   "execution_count": 2,
   "metadata": {},
   "outputs": [
    {
     "name": "stdout",
     "output_type": "stream",
     "text": [
      "sat\n",
      "[y = 0, x = 1]\n",
      "-1*oo\n",
      "False\n"
     ]
    }
   ],
   "source": [
    "solver = Optimize()\n",
    "x = Int(\"x\")\n",
    "y = Int(\"y\")\n",
    "solver.add(x < 2)\n",
    "solver.add(y - x < 1)\n",
    "obj = solver.minimize(x+y)\n",
    "print(solver.check())\n",
    "print(solver.model())\n",
    "print(solver.lower(obj))\n",
    "print(is_int_value(solver.lower(obj)))"
   ]
  },
  {
   "cell_type": "markdown",
   "metadata": {},
   "source": [
    "## Set cover\n",
    "\n",
    "Um dos problemas clássicos das ciências da computação nesta categoria é o problema do *set cover* descrito em https://en.wikipedia.org/wiki/Set_cover_problem.\n",
    "\n",
    "Neste problema, são dados\n",
    "- $U$, o universo de valores\n",
    "- $S$, o conjunto de conjuntos,  cuja união é igual a $U$\n",
    "\n",
    "O objectivo é determinar o menor número de conjuntos de $S$ cuja união é igual a $U$, i.e., a *cobertura mínima* de $U$.\n",
    "\n",
    "### Análise do problema\n",
    "\n",
    "Podemos representar este problema por uma matriz de incidência $A \\in \\{0,1\\}^{|U| \\times |S|}$. Por exemplo, se $U=\\{0,1,2,3,4\\}$ e $S = \\{\\{0,1,2\\},\\{1,3\\},\\{2,3\\},\\{3,4\\}\\}$ temos a seguinte matriz de incidência\n",
    "\n",
    "$$\n",
    "\\begin{array}{c|c|c|c|c}\n",
    "& S_0 & S_1 & S_2 & S_3\\\\\n",
    "\\hline\n",
    "0 & 1 & 0 & 0 & 0\\\\\n",
    "\\hline\n",
    "1 & 1 & 1 & 0 & 0\\\\\n",
    "\\hline\n",
    "2 & 1 & 0 & 1 & 0\\\\\n",
    "\\hline\n",
    "3 & 0 & 1 & 1 & 1\\\\\n",
    "\\hline\n",
    "4 & 0 & 0 & 0 & 1\n",
    "\\end{array}\n",
    "$$\n",
    "\n",
    "Neste exemplo, a cobertura mínima é $S_0 \\cup S_3 = U$.\n",
    "\n",
    "Este problema pode ser resolvido com programação inteira usando uma variável inteira binária $x_j$ para cada conjunto $S_j$, que irá determinar se esse conjunto pertence à cobertura mínima. O objectivo é minimizar $\\sum_j x_j$ obedecendo à seguinte restrição:\n",
    "- Cada elemento de $U$ tem que pertencer a pelo menos um conjunto da cobertura mínima."
   ]
  },
  {
   "cell_type": "markdown",
   "metadata": {},
   "source": [
    "### Exercício 1\n",
    "Formalize a restrição acima indicada."
   ]
  },
  {
   "cell_type": "markdown",
   "metadata": {},
   "source": [
    "$$\n",
    "\\forall_{i \\in U} \\cdot \\sum_{j\\in S} a_{i,j}\\cdot x_{j} \\ge 1 \n",
    "$$"
   ]
  },
  {
   "cell_type": "markdown",
   "metadata": {},
   "source": [
    "### Exercício 2\n",
    "\n",
    "Usando o Z3, implemente a função `set_cover` que dada a matriz de incidência (representada como uma lista de colunas) determine quais os conjuntos que pertencem à cobertura mínima. "
   ]
  },
  {
   "cell_type": "code",
   "execution_count": 6,
   "metadata": {},
   "outputs": [],
   "source": [
    "def set_cover(A):\n",
    "    s = Optimize()\n",
    "    # completar \n",
    "    S=len(A)\n",
    "    U=len(A[0])\n",
    "    x={}\n",
    "    for j in range(S):\n",
    "        x[j]=Int(str(j))\n",
    "        s.add(x[j]>=0,x[j]<=1)\n",
    "    for i in range(U):\n",
    "        s.add(sum([A[j][i]*x[j] for j in range(S)])>=1)\n",
    "    s.minimize(Sum([x[j] for j in range(S)]))\n",
    "    if s.check()==sat:\n",
    "        m=s.model()\n",
    "        return [j for j in range(S) if m[x[j]]==1]\n",
    "    \n",
    "    \n",
    "   \n",
    "            \n",
    "assert set_cover([[1,1,1,0,0],[0,1,0,1,0],[0,0,1,1,0],[0,0,0,1,1]]) == [0,3]"
   ]
  },
  {
   "cell_type": "markdown",
   "metadata": {},
   "source": [
    "## Bin packing\n",
    "\n",
    "Outro problema clássico na categoria dos problemas de incidência, que generaliza o problema anterior, é o problema de empacotamento *bin packing* descrito em https://en.wikipedia.org/wiki/Bin_packing_problem. \n",
    "\n",
    "Neste problema, são dados\n",
    "- $N$, o número de items a empacotar\n",
    "- $C$, a capacidade das contentores onde pretendemos empacotar os items\n",
    "- $W_i$ o peso de cada item $i$, com $0 < W_i \\le C$\n",
    "\n",
    "Pretende-se determinar o número mínimo de contentores necessários para empacotar todos os items (note que, no pior caso, tal será possível com $N$ contentores).\n",
    "\n",
    "Por exemplo, se tivermos\n",
    "- $N = 7$\n",
    "- $C = 10$\n",
    "- $W_0 = 2, W_1 = 5, W_2 = 4, W_3 = 7, W_4 = 1, W_5 = 3, W_6 = 8$\n",
    "\n",
    "o número mínimo de contentores necessários é 3.\n",
    "\n",
    "### Análise do problema\n",
    "\n",
    "Ao contrário do problema anterior, em que a matriz de incidência é dada como input, neste problema pretende-se precisamente descobrir esta matriz, minimizando simultaneamente o número de contentores. Como tal, para resolver este problema com programação inteira iremos usar as seguintes variáveis:\n",
    "\n",
    "- Uma matriz $A$ de variáveis binárias de dimensão $|N| \\times |N|$, onde a variável $A_{i,j}$ determina se o item $i$ é colocado no contentor $j$\n",
    "- Uma variável binária $y_j$ por cada contentor $j$ que determina se esse contentor é utilizado\n",
    "\n",
    "O objectivo é minimizar $\\sum_j y_j$ obedecendo às seguintes restrições:\n",
    "- Cada item tem que ser empacotado num contentor\n",
    "- A capacidade de cada contentor não pode ser excedida"
   ]
  },
  {
   "cell_type": "markdown",
   "metadata": {},
   "source": [
    "### Exercício 3\n",
    "Formalize as duas restrições acima indicadas."
   ]
  },
  {
   "cell_type": "markdown",
   "metadata": {},
   "source": [
    " $$\n",
    " \\forall_{i \\in N} \\cdot \\sum_{j \\in N} A_{i,j}=1 \n",
    " \\\\\n",
    " \\forall_{j \\in N} \\cdot \\sum_{i \\in N} w_{i} \\cdot A_{i,j} \\leq C \\cdot y_{j}\n",
    " $$"
   ]
  },
  {
   "cell_type": "markdown",
   "metadata": {},
   "source": [
    "### Exercício 4\n",
    "\n",
    "Implemente a função `binpacking` que dada a capacidade dos contentores e uma lista com os pesos dos items a empacotar, determine o número mínimo de contentores necessários para o fazer."
   ]
  },
  {
   "cell_type": "code",
   "execution_count": 16,
   "metadata": {},
   "outputs": [],
   "source": [
    "def binpacking(C,W):\n",
    "    s = Optimize()\n",
    "    # completar\n",
    "    N=len(W)\n",
    "    y={}\n",
    "    A={}\n",
    "    \n",
    "    for j in range(N):\n",
    "        y[j]=Int(str(j))\n",
    "        s.add(y[j]>=0,y[j]<=1)\n",
    "        for i in range(N):\n",
    "            A[i,j]=Int(str(i)+','+str(j))\n",
    "            s.add(A[i,j]>=0,A[i,j]<=1)\n",
    "            \n",
    "    for i in range(N):\n",
    "        s.add(sum([A[i,j] for j in range(N)])==1)\n",
    "        \n",
    "    for j in range(N):\n",
    "        s.add(Sum([W[i]*A[i,j] for i in range(N)])<=C * y[j])\n",
    "        \n",
    "    s.minimize(Sum([y[j] for j in range(N)]))\n",
    "    if s.check() == sat:\n",
    "        m = s.model()\n",
    "        return m.eval(Sum([y[j] for j in range(N)]))\n",
    "\n",
    "\n",
    "\n",
    "assert binpacking(10,[2,5,4,7,1,3,8]) == 3"
   ]
  },
  {
   "cell_type": "markdown",
   "metadata": {},
   "source": [
    "### Exercício 5\n",
    "Modifique a sua implementação da função anterior por forma a devolver uma lista com os identificadores dos contentores onde cada item deve ser empacotado."
   ]
  },
  {
   "cell_type": "code",
   "execution_count": 22,
   "metadata": {},
   "outputs": [
    {
     "data": {
      "text/plain": [
       "[[[1, 2, 4]], [[0, 6]], [[3, 5]]]"
      ]
     },
     "execution_count": 22,
     "metadata": {},
     "output_type": "execute_result"
    }
   ],
   "source": [
    "def binpacking(C,W):\n",
    "    s = Optimize()\n",
    "    # completar\n",
    "    N=len(W)\n",
    "    y={}\n",
    "    A={}\n",
    "    \n",
    "    for j in range(N):\n",
    "        y[j]=Int(str(j))\n",
    "        s.add(y[j]>=0,y[j]<=1)\n",
    "        for i in range(N):\n",
    "            A[i,j]=Int(str(i)+','+str(j))\n",
    "            s.add(A[i,j]>=0,A[i,j]<=1)\n",
    "            \n",
    "    for i in range(N):\n",
    "        s.add(sum([A[i,j] for j in range(N)])==1)\n",
    "        \n",
    "    for j in range(N):\n",
    "        s.add(Sum([W[i]*A[i,j] for i in range(N)])<=C * y[j])\n",
    "        \n",
    "    s.minimize(Sum([y[j] for j in range(N)]))\n",
    "    l=[]\n",
    "    if s.check() == sat:\n",
    "        m = s.model()\n",
    "        return [[[i for i in range(N) if m[A[i,j]]==1]] for j in range(N) if m[y[j]]==1]\n",
    "\n",
    "binpacking(10,[2,5,4,7,1,3,8])"
   ]
  },
  {
   "cell_type": "markdown",
   "metadata": {},
   "source": [
    "## Knapsack\n",
    "\n",
    "Outro problema clássico de incidência é o *problema da mochila* descrito em https://en.wikipedia.org/wiki/Knapsack_problem.\n",
    "\n",
    "Neste problema, são dados\n",
    "- $N$, o número de items disponíveis\n",
    "- $C$, a capacidade da mochila\n",
    "- $W_i$, o peso de cada item $i$, com $0 < W_i \\le C$\n",
    "- $V_i$ o valor de cada item $i$, com $0 \\le V_i$\n",
    "\n",
    "Pretende-se determinar o valor máximo que pode ser transportado na mochila.\n",
    "\n",
    "Por exemplo, se tivermos uma mochila com capacidade $C = 15$ e 5 items com os seguintes pesos e valores\n",
    "$$\n",
    "\\begin{array}{c|c|c}\n",
    "& W & V\\\\\n",
    "\\hline\n",
    "0 & 12 & 4\\\\\n",
    "1 & 2 & 2\\\\\n",
    "2 & 1 & 2\\\\\n",
    "3 & 1 & 1\\\\\n",
    "4 & 4 & 10\n",
    "\\end{array}\n",
    "$$\n",
    "a melhor solução é empacotar todos os items menos o primeiro, com um valor total de 15."
   ]
  },
  {
   "cell_type": "markdown",
   "metadata": {},
   "source": [
    "### Exercício 6\n",
    "Formalize este problema usando programação inteira."
   ]
  },
  {
   "cell_type": "markdown",
   "metadata": {},
   "source": [
    "Pode usar-se uma variável binária $x_i$ por cada item, para decidir se esse item será colocado na mochila.\n",
    "\n",
    "Maximiza-se $\\sum_i x_i \\cdot V_i$ sujeito à seguinte restrição, que garante que a capacidade da mochila não é excedida.\n",
    "\n",
    "$$\n",
    "\\sum_{i = 0}^{N-1} x_i \\cdot W_i \\le C\n",
    "$$"
   ]
  },
  {
   "cell_type": "markdown",
   "metadata": {},
   "source": [
    "### Exercício 7\n",
    "Implemente a função `knapsack` que dada a capacidade da mochila e uma lista com um par *(peso, valor)* por cada item, determine quais os items a empacotar na mochila e o respectivo valor."
   ]
  },
  {
   "cell_type": "code",
   "execution_count": 23,
   "metadata": {},
   "outputs": [],
   "source": [
    "def knapsack(C,I):\n",
    "    s = Optimize()\n",
    "    \n",
    "    N = len(I)\n",
    "    x = {}\n",
    "    \n",
    "    for i in range (N):\n",
    "        x[i] = Int (str(i))\n",
    "        s.add(x[i]>= 0 , x[i]<= 1)\n",
    "    \n",
    "    s.add(sum([x[i] * I[i][0]  for i in range(N)]) <= C)\n",
    "    \n",
    "    s.maximize(sum([x[i] * I[i][1]  for i in range(N)]))\n",
    "    \n",
    "    if s.check() == sat:\n",
    "        m = s.model()\n",
    "        return [i for i in range(N) if (m[x[i]] == 1)] \n",
    "    \n",
    "assert knapsack(15,[(12,4),(2,2),(1,2),(1,1),(4,10)]) == [1,2,3,4]"
   ]
  },
  {
   "cell_type": "code",
   "execution_count": null,
   "metadata": {},
   "outputs": [],
   "source": []
  }
 ],
 "metadata": {
  "kernelspec": {
   "display_name": "Python 3",
   "language": "python",
   "name": "python3"
  },
  "language_info": {
   "codemirror_mode": {
    "name": "ipython",
    "version": 3
   },
   "file_extension": ".py",
   "mimetype": "text/x-python",
   "name": "python",
   "nbconvert_exporter": "python",
   "pygments_lexer": "ipython3",
   "version": "3.8.3"
  }
 },
 "nbformat": 4,
 "nbformat_minor": 2
}
