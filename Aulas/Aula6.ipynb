{
 "cells": [
  {
   "cell_type": "markdown",
   "metadata": {},
   "source": [
    "# Grafos de fluxos\n",
    "\n",
    "Na sua versão mais simples, um *grafo de fluxos* é um grafo orientado onde cada aresta modela uma \"conduta\" onde pode fluir \"alguma coisa\" (gás, água, trânsito automóvel, etc) sujeita a uma capacidade máxima. Mais em informação em https://en.wikipedia.org/wiki/Flow_network.\n",
    "\n",
    "Usando o `networkx` podemos modelar um grafo de fluxos usando um `DiGraph` (*directed graph*), usando atributos adicionais para representar a capacidade máxima de cada arco e o respectivo fluxo efectivo. Por exemplo, o seguinte código cria um grafo de fluxos com 6 nodos e 10 arcos."
   ]
  },
  {
   "cell_type": "code",
   "execution_count": 1,
   "metadata": {},
   "outputs": [],
   "source": [
    "import networkx as nx\n",
    "\n",
    "graph = nx.DiGraph()\n",
    "graph.add_edge(0,1,capacity=16)\n",
    "graph.add_edge(0,2,capacity=13)\n",
    "graph.add_edge(1,2,capacity=10)\n",
    "graph.add_edge(1,3,capacity=12)\n",
    "graph.add_edge(2,1,capacity=4)\n",
    "graph.add_edge(2,4,capacity=14)\n",
    "graph.add_edge(3,2,capacity=9)\n",
    "graph.add_edge(3,5,capacity=20)\n",
    "graph.add_edge(4,3,capacity=7)\n",
    "graph.add_edge(4,5,capacity=4)"
   ]
  },
  {
   "cell_type": "markdown",
   "metadata": {},
   "source": [
    "Podemos desenhar este grafo de fluxos usando a seguinte função que assume que o grafo é planar e que coloca como fluxo efectivo o caracter `?` caso este atributo não esteja definido."
   ]
  },
  {
   "cell_type": "code",
   "execution_count": 4,
   "metadata": {},
   "outputs": [
    {
     "name": "stderr",
     "output_type": "stream",
     "text": [
      "C:\\Users\\andre\\anaconda3\\lib\\site-packages\\networkx\\drawing\\layout.py:950: FutureWarning: arrays to stack must be passed as a \"sequence\" type such as list or tuple. Support for non-sequence iterables such as generators is deprecated as of NumPy 1.16 and will raise an error in the future.\n",
      "  pos = np.row_stack((pos[x] for x in node_list))\n"
     ]
    },
    {
     "data": {
      "image/png": "[encoded data removed]",
      "text/plain": [
       "<Figure size 432x288 with 1 Axes>"
      ]
     },
     "metadata": {},
     "output_type": "display_data"
    }
   ],
   "source": [
    "def draw_flow_network(graph):\n",
    "    pos = nx.planar_layout(graph)\n",
    "    labels = {}\n",
    "    for (o,d) in graph.edges():\n",
    "        if 'flow' in graph[o][d]:\n",
    "            labels[(o,d)] = str(graph[o][d]['flow']) + ' / ' + str(graph[o][d]['capacity'])\n",
    "        else:\n",
    "            labels[(o,d)] = '? / ' + str(graph[o][d]['capacity'])                        \n",
    "    nx.draw_networkx(graph,pos)\n",
    "    nx.draw_networkx_edge_labels(graph,pos,labels,label_pos=0.3)\n",
    "\n",
    "\n",
    "draw_flow_network(graph)"
   ]
  },
  {
   "cell_type": "markdown",
   "metadata": {},
   "source": [
    "## Max-flow\n",
    "\n",
    "Um dos problemas clássicos com grafos de fluxos consiste em determinar qual o fluxo máximo que pode existir entre dois nodos concretos do grafo.\n",
    "\n",
    "Usando programação inteira mista (com variáveis inteiras e reais) podemos determinar este fluxo máximo da seguinte forma.\n",
    "\n",
    "### Análise do problema\n",
    "\n",
    "Dado um grafo orientado $(V,E)$, uma capacidade $C_e \\ge 0$ para cada arco $e \\in E$, um nodo $s$ correspondente à origem e um nodo $t$ correspondente ao destino, precisamos de uma variável $f_e$ do tipo real por cada arco $e \\in E$, que irá representar o fluxo efectivo nesse arco. Para encontrar o fluxo máximo entre $s$ e $t$ basta maximizar\n",
    "\n",
    "$$\n",
    "\\sum_{(s,v) \\in E} f_{(s,v)}-\\sum_{(v,s) \\in E} f_{(v,s)}\n",
    "$$\n",
    "\n",
    "ou seja, a soma dos fluxos efectivos dos arcos com origem em $s$ (alternativamente, poderia-se maximizar a soma dos fluxos efectivos dos arcos com destino $t$), sujeito às seguintes restrições:\n",
    "- A capacidade de cada arco é respeitada\n",
    "- O fluxo que sai de cada nodo é igual ao que entra (exceptuando em $s$ e $t$)"
   ]
  },
  {
   "cell_type": "markdown",
   "metadata": {},
   "source": [
    "### Exercício 1\n",
    "\n",
    "Formalize estas restrições."
   ]
  },
  {
   "cell_type": "markdown",
   "metadata": {},
   "source": [
    "$$\n",
    "\\forall e \\in E \\cdot f_e \\le C_e\n",
    "$$ \\\n",
    "$$\n",
    "\\forall v \\in V \\setminus \\{s,t\\} \\cdot \\sum_{(v,x) \\in E} f_{(v,x)} = \\sum_{(x,v) \\in E} f_{(x,v)} \n",
    "$$"
   ]
  },
  {
   "cell_type": "markdown",
   "metadata": {},
   "source": [
    "### Exercício 2\n",
    "\n",
    "Implemente a função `max_flow` que dado um grafo de fluxos, determina o fluxo máximo entre `s` e `t`, definindo também o atributo `flow` com o fluxo efectivo de cada arco necessário para atingir esse fluxo máximo. Em `networkx` pode usar o método `edges` para aceder aos arcos de um grafo, e os métodos `in_edges` e `out_edges` para aceder aos arcos de entrada e saída de um determinado vértice."
   ]
  },
  {
   "cell_type": "code",
   "execution_count": null,
   "metadata": {},
   "outputs": [],
   "source": [
    "from z3 import *\n",
    "def out_flow(graph,v,f):\n",
    "    return Sum([f[e] for e in graph.out_edges(v)])\n",
    "def in_flow(graph,v,f):\n",
    "    return Sum([f[e] for e in graph.in_edges(v)])\n",
    "def max_flow(graph,s,t):\n",
    "    sol = Optimize()\n",
    "    # completar\n",
    "    f={}\n",
    "    for e in graph.edges():\n",
    "        f[e]= Real(str(e))\n",
    "        sol.add(f[e]>=0)\n",
    "        o,d=e\n",
    "        sol.add(f[e]<=graph[o][d]['capacity'])\n",
    "    for v in graph:\n",
    "        if v!=s and v!=t:\n",
    "            sol.add(Sum([f[e] for e in graph.out_edges(v)])==Sum([f[e] for e in graph.in_edges(v)]))\n",
    "            \n",
    "    sol.maximize(out_flow(graph,s,f)-in_flow(graph,s,f))\n",
    "    \n",
    "    if sol.check()==sat:\n",
    "        m=sol.model()\n",
    "        for e in graph.edges():\n",
    "            o,d = e\n",
    "            graph[o][d]['flow'] = m[f[e]]\n",
    "        return m.eval(out_flow(graph,s,f)-in_flow(graph,s,f))\n",
    "        \n",
    "\n",
    "    \n",
    "assert max_flow(graph,0,5) == 23\n",
    "draw_flow_network(graph)"
   ]
  },
  {
   "cell_type": "markdown",
   "metadata": {},
   "source": [
    "## Min-cut\n",
    "\n",
    "Um dos resultados fundamentais sobre grafos de fluxos, conforme https://en.wikipedia.org/wiki/Max-flow_min-cut_theorem, diz que o fluxo máximo entre dois vértices é igual à soma da capacidade dos arcos que estabelecem um *corte mínimo* entre esses vértices. Num grafo um *corte mínimo* é um conjunto de arcos que divide os nodos em dois conjuntos disjuntos satisfazendo algum critério de minimalidade. Neste caso estamos interessados em dividir o grafo em dois conjuntos $S$ e $T$ onde a origem $s \\in S$ e o destino $t \\in T$, minimizando a capacidade total dos arcos que pertecem ao corte, ou seja, a capacidade total dos arcos que ligam $S$ a $T$.\n",
    "\n",
    "### Análise do problema\n",
    "\n",
    "Dado um grafo orientado $(V,E)$, uma capacidade $C_e \\ge 0$ para cada arco $e \\in E$, um nodo $s$ correspondente à origem e um nodo $t$ correspondente ao destino, precisamos de uma variável binária $d_{(a,b)}$ por cada aresta $(a,b) \\in E$, que terá o valor 1 se a respectiva aresta pertencer ao corte entre $S$ e $T$ (ou seja, se $a \\in S$ e $b \\in V$), e de uma variável binária $x_v$ por cada vértice $v \\in V$, que terá o valor 1 se o respectivo vértice pertencer a $S$ (se o valor for 0 é porque $v \\in T$). Para encontrar o corte mínimo basta minimizar\n",
    "\n",
    "$$\n",
    "\\sum_{e \\in E} d_{e} \\cdot C_e\n",
    "$$\n",
    "\n",
    "sujeito às seguintes restrições:\n",
    "- O nodo $s$ pertence a $S$ e o nodo $t$ pertence a $T$\n",
    "- Uma aresta com origem em $S$ e destino em $T$ pertence ao corte"
   ]
  },
  {
   "cell_type": "markdown",
   "metadata": {},
   "source": [
    "### Exercício 3\n",
    "\n",
    "Formalize estas restrições."
   ]
  },
  {
   "cell_type": "markdown",
   "metadata": {},
   "source": [
    "$$\n",
    "x_s=1 \\wedge x_t=0\n",
    "$$\n",
    "$$\n",
    "\\forall_{(a,b)}\\in E \\cdot d_{(a,b)} \\ge x_a - x_b\n",
    "$$\n",
    "$$\n",
    "\\begin{array}\n",
    "\\\\x_a & x_b & d_{(a,b)}\\\\\n",
    "0 & 0 & 1,0\\\\\n",
    "0 & 1 & 0,1\\\\\n",
    "1 & 0 & 1\\\\\n",
    "1 & 1 & 1,0\n",
    "\\end{array}\n",
    "$$"
   ]
  },
  {
   "cell_type": "markdown",
   "metadata": {},
   "source": [
    "### Exercício 4\n",
    "\n",
    "Implemente a função `min_cut` que dado um grafo de fluxos determina o fluxo máximo entre `s` e `t`."
   ]
  },
  {
   "cell_type": "code",
   "execution_count": 16,
   "metadata": {},
   "outputs": [
    {
     "data": {
      "text/plain": [
       "(23, [(1, 3), (4, 3), (4, 5)])"
      ]
     },
     "execution_count": 16,
     "metadata": {},
     "output_type": "execute_result"
    }
   ],
   "source": [
    "def min_cut(graph,s,t):\n",
    "    sol = Optimize()\n",
    "    # completar\n",
    "    x = {}\n",
    "    for v in graph:\n",
    "        x[v] = Int(str(v))\n",
    "        sol.add(x[v] >= 0, x[v] <= 1)\n",
    "    sol.add(x[s] == 1 , x[t] == 0)\n",
    "    d = {}\n",
    "    \n",
    "    for e in graph.edges():\n",
    "        d[e] = Int(str(e))\n",
    "        sol.add(d[e] >= 0, d[e] <= 1)\n",
    "        a,b = e\n",
    "        sol.add(d[e] >= x[a] - x[b])\n",
    "    obj = Sum([d[(a,b)] * graph[a][b]['capacity'] for a,b in graph.edges()])\n",
    "    sol.minimize(obj)\n",
    "    \n",
    "    if sol.check() == sat:\n",
    "        m = sol.model()\n",
    "        return m.eval(obj), [e for e in graph.edges() if m[d[e]] == 1]\n",
    "\n",
    "assert min_cut(graph,0,5)\n",
    "\n",
    "min_cut(graph,0,5)"
   ]
  },
  {
   "cell_type": "markdown",
   "metadata": {},
   "source": [
    "## Outros problemas de corte mínimo\n",
    "\n",
    "Outro problema relacionado com o corte mínimo consiste em determinar, para um grafo orientado e dois nodos $s$ e $t$ desse grafo, o número mínimo de arcos que é necessário retirar para que $t$ deixe de ser acessível a partir de $s$.\n",
    "\n",
    "Uma forma directa de resolver este problema consiste em começar por determinar todos os caminhos (sem ciclos) entre $s$ e $t$ e depois determinar o conjunto mínimo de arestas que intersecta todos esses caminhos."
   ]
  },
  {
   "cell_type": "code",
   "execution_count": 2,
   "metadata": {},
   "outputs": [
    {
     "data": {
      "text/plain": [
       "[[0, 1, 2, 4, 3, 5],\n",
       " [0, 1, 2, 4, 5],\n",
       " [0, 1, 3, 2, 4, 5],\n",
       " [0, 1, 3, 5],\n",
       " [0, 2, 1, 3, 5],\n",
       " [0, 2, 4, 3, 5],\n",
       " [0, 2, 4, 5]]"
      ]
     },
     "execution_count": 2,
     "metadata": {},
     "output_type": "execute_result"
    }
   ],
   "source": [
    "list(nx.all_simple_paths(graph,0,5))"
   ]
  },
  {
   "cell_type": "markdown",
   "metadata": {},
   "source": [
    "### Exercício 5\n",
    "\n",
    "Formalize este problema usando programação inteira. Assuma que dado um grafo $(V,E)$ e os nodos $s$ e $t$, $P$ é o conjunto de todos os caminhos (sem ciclos) entre $s$ e $t$, onde cada caminho é representado pelo conjunto dos arcos que lhe pertencem."
   ]
  },
  {
   "cell_type": "markdown",
   "metadata": {},
   "source": [
    "Mininmizar\n",
    "\n",
    "$$\n",
    "\\sum_{e\\in E} d_e\n",
    "\\\\\n",
    "\\forall_{p \\in P} \\cdot \\sum_{e\\in P} d_{e} \\ge 1\n",
    "$$"
   ]
  },
  {
   "cell_type": "markdown",
   "metadata": {},
   "source": [
    "### Exercício 6\n",
    "\n",
    "Implemente a função `disconnect_all_paths` que dado um grafo `graph` e os nodos `s` e `t` devolve a lista de arestas a remover para que `t` deixe de ser acessível a partir de `s`. Pode usar a função `all_simple_paths` do `networkx` para determinar todos os caminhos sem ciclos entre dois vértices."
   ]
  },
  {
   "cell_type": "code",
   "execution_count": 22,
   "metadata": {},
   "outputs": [
    {
     "data": {
      "text/plain": [
       "(2, [(2, 4), (3, 5)])"
      ]
     },
     "execution_count": 22,
     "metadata": {},
     "output_type": "execute_result"
    }
   ],
   "source": [
    "def path_edges(path):\n",
    "    return [(path[i],path[i+1]) for i in range(len(path)-1)]\n",
    "\n",
    "def disconnect_all_paths(graph,s,t):\n",
    "    sol = Optimize()\n",
    "    # completar\n",
    "    d={}\n",
    "    for e in graph.edges():\n",
    "        d[e]=Int(str(e))\n",
    "        sol.add(d[e]>=0,d[e]<=1)\n",
    "    for p in nx.all_simple_paths(graph,s,t):\n",
    "        sol.add(Sum([d[e] for e in path_edges(p)])>=1)\n",
    "    obj=Sum([d[e] for e in graph.edges()])\n",
    "    sol.minimize(obj)\n",
    "    if sol.check()==sat:\n",
    "        m=sol.model()\n",
    "        return m.eval(obj),[e for e in graph.edges() if m[d[e]]==1]\n",
    "        \n",
    "\n",
    "disconnect_all_paths(graph,0,5)"
   ]
  },
  {
   "cell_type": "markdown",
   "metadata": {},
   "source": [
    "### Exercício 7\n",
    "\n",
    "Também é possível reduzir este problema ao problema do corte mínimo em grafos de fluxos assumindo simplesmente que a capacidade  dos arcos é 1.\n",
    "\n",
    "Implemente a função `disconnect_min_cut` que dado um grafo `graph` e os nodos `s` e `t` devolve a lista de arestas a remover para que `t` deixe de ser acessível a partir de `s` usando esta técnica."
   ]
  },
  {
   "cell_type": "code",
   "execution_count": null,
   "metadata": {},
   "outputs": [],
   "source": [
    "def disconnect_min_cut(graph,s,t):\n",
    "    sol = Optimize()\n",
    "    # completar\n",
    "    \n",
    "    \n",
    "disconnect_min_cut(graph,0,5)"
   ]
  },
  {
   "cell_type": "markdown",
   "metadata": {},
   "source": [
    "### Exercício 8\n",
    "\n",
    "Usando análise empírica da complexidade, compare a eficiência destas duas técnicas."
   ]
  },
  {
   "cell_type": "code",
   "execution_count": null,
   "metadata": {},
   "outputs": [],
   "source": []
  }
 ],
 "metadata": {
  "kernelspec": {
   "display_name": "Python 3",
   "language": "python",
   "name": "python3"
  },
  "language_info": {
   "codemirror_mode": {
    "name": "ipython",
    "version": 3
   },
   "file_extension": ".py",
   "mimetype": "text/x-python",
   "name": "python",
   "nbconvert_exporter": "python",
   "pygments_lexer": "ipython3",
   "version": "3.8.3"
  }
 },
 "nbformat": 4,
 "nbformat_minor": 2
}
