{
 "cells": [
  {
   "cell_type": "code",
   "execution_count": 1,
   "metadata": {},
   "outputs": [],
   "source": [
    "from z3 import *\n",
    "from random import randint\n",
    "def declare(i): # declara as variaveis de cada estado #\n",
    "    state = {}\n",
    "    state['pc'] = Int('pc'+str(i))\n",
    "    state['m'] = BitVec('m'+str(i),16)\n",
    "    state['n'] = BitVec('n'+str(i),16)\n",
    "    state['r'] = BitVec('r'+str(i),16)\n",
    "    state['x'] = BitVec('x'+str(i),16)\n",
    "    state['y'] = BitVec('y'+str(i),16)\n",
    "    return state\n",
    "\n",
    "def init(state): # inicia o primeiro estado #\n",
    "    return And(state['m']==randint(0,20),state['n']==randint(0,20),\n",
    "               state['r']==0,state['x']==state['m'],\n",
    "               state['y']==state['n'],state['pc']==0)\n",
    "\n",
    "def trans(curr,prox): # define as tranciçoes possiveis #\n",
    "    # define igualdade dos valores do estado anterior para o seguinte #\n",
    "    ti=And(prox['m']==curr['m'],prox['n']==curr['n'],prox['r']==curr['r'],prox['x']==curr['x'],prox['y']==curr['y'])\n",
    "    \n",
    "    # as possiveis tranciçoes #\n",
    "    t1=And(curr['pc']==0,prox['pc']==1,curr['y']<=0,ti)\n",
    "    t2=And(curr['pc']==0,prox['pc']==0,curr['y']>0,prox['m']==curr['m'],prox['n']==curr['n'],prox['r']==curr['r']+curr['x'],\n",
    "           prox['x']==(curr['x']<<1),prox['y']==((curr['y']-1)>>1),Not(curr['y']==0))\n",
    "    t3=And(curr['pc']==0,prox['pc']==0,curr['y']>0,prox['m']==curr['m'],prox['n']==curr['n'],prox['r']==curr['r'],\n",
    "           prox['x']==(curr['x']<<1),prox['y']==(curr['y']>>1),curr['y']==0)\n",
    "    t4=And(curr['pc']==1,prox['pc']==1,ti)\n",
    "    return Or(t1,t2,t3,t4)"
   ]
  },
  {
   "cell_type": "code",
   "execution_count": 3,
   "metadata": {},
   "outputs": [],
   "source": [
    "def kinduction_always(declare,init,trans,inv,k):\n",
    "    # completar\n",
    "    s=Solver()\n",
    "    state=[declare(i) for i in range(k)]\n",
    "    s.add(init(state[0]))\n",
    "    s.add(And([trans(state[i],state[i+1]) for i in range(k-1)]))\n",
    "    s.add(Or([Not(inv(state[i])) for i in range(k)]))\n",
    "    if s.check()==sat:\n",
    "        print(\"O invariante é falso num dos primeiros\",k,\"estados\")\n",
    "        return\n",
    "    assert(s.check()==unsat)\n",
    "    s=Solver()\n",
    "    state=[declare(i) for i in range(k+1)]\n",
    "    s.add(init(state[0]))\n",
    "    s.add(And([trans(state[i],state[i+1]) for i in range(k)]))\n",
    "    s.add(And([inv(state[i]) for i in range(k)]))\n",
    "    s.add(Not(inv(state[k])))\n",
    "    if s.check()==sat:\n",
    "        print(\"Não é possivel provar o invariante com\",k,\"indução\")\n",
    "        return\n",
    "    assert(s.check()==unsat)\n",
    "    print(\"Propriedade valida!\")"
   ]
  },
  {
   "cell_type": "code",
   "execution_count": 18,
   "metadata": {},
   "outputs": [
    {
     "name": "stdout",
     "output_type": "stream",
     "text": [
      "Propriedade valida!\n",
      "Propriedade valida!\n",
      "Propriedade valida!\n"
     ]
    }
   ],
   "source": [
    "def variante(state):\n",
    "    return state['y']\n",
    "\n",
    "def termina(state):\n",
    "    return (state['y'] == 0)\n",
    "\n",
    "def variante_positivo(state):\n",
    "    return variante(state)>=0\n",
    "\n",
    "kinduction_always(declare,init,trans,variante_positivo,3)\n",
    "\n",
    "def variante_decrescente(state):\n",
    "    nextstate=declare(-1)\n",
    "    return ForAll(list(nextstate.values()),\n",
    "                  Implies(trans(state,nextstate),Or(variante(nextstate)< variante(state),variante(nextstate)==0)))\n",
    "\n",
    "kinduction_always(declare,init,trans,variante_decrescente,3)\n",
    "\n",
    "def variante_util(state):\n",
    "    return Implies(variante(state)==0,termina(state))\n",
    "\n",
    "kinduction_always(declare,init,trans,variante_util,3)"
   ]
  },
  {
   "cell_type": "code",
   "execution_count": null,
   "metadata": {},
   "outputs": [],
   "source": []
  }
 ],
 "metadata": {
  "kernelspec": {
   "display_name": "Python 3",
   "language": "python",
   "name": "python3"
  },
  "language_info": {
   "codemirror_mode": {
    "name": "ipython",
    "version": 3
   },
   "file_extension": ".py",
   "mimetype": "text/x-python",
   "name": "python",
   "nbconvert_exporter": "python",
   "pygments_lexer": "ipython3",
   "version": "3.8.3"
  }
 },
 "nbformat": 4,
 "nbformat_minor": 4
}
