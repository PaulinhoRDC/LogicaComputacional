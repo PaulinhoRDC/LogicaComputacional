{
 "cells": [
  {
   "cell_type": "markdown",
   "metadata": {},
   "source": [
    "# Trabalho 1\n",
    "## Lógica Computacional 2020-2021\n",
    "\n",
    "> O propósito deste trabalho é a análise de problemas de alocação usando técnicas de SAT,  em lógica proposicional, e IP em lógica linear inteira.\n",
    "\n",
    "> Trabalho realizado por: \n",
    "    > 1. Paulo Costa - A87986\n",
    "    > 2. André Araújo - A87987\n"
   ]
  },
  {
   "cell_type": "markdown",
   "metadata": {},
   "source": [
    "### Exercício 2\n",
    "\n",
    "\n",
    "2. O  “pigeon hole principle” (PHP) é um problema clássico da complexidade. Basicamente\n",
    "\n",
    "    > Existem $N$ pombos  e $N-1$ poleiros de pombos. Cada pombo ocupa totalmente um poleiro. Pretende-se alocar cada pombo a um poleiro próprio.\n",
    "    >\n",
    "    1. Provar que não existe solução do problema, usando  Z3 em \n",
    "        1. lógica proposional\n",
    "        2. lógica inteira linear\n",
    "    2. Analisar a complexidade de cada uma das provas em função de $N$ de forma empírica. Como sugestão pode começar por fazer um “plot” do tempo de execução."
   ]
  },
  {
   "cell_type": "markdown",
   "metadata": {},
   "source": [
    "### RESPOSTA:"
   ]
  },
  {
   "cell_type": "markdown",
   "metadata": {},
   "source": [
    "A. \n",
    "\n",
    "a. Para provar que não e possivel colocar $N$ pombos  em  $N-1$ poleiros de pombos de forma a que cada pombo  ocupe totalmente um poleiro. Para tal, lógica proposional,vamos necessitar de $N \\times N-1$ variáveis proposicionais, onde a variável $d_{p,pl}$ determina se o pombo $p$ vai para o poleiro $pl$. Assim temos que:\n",
    "\n",
    "- Cada pombo $p$ tem exatamente um poleiro $pl$\n",
    "- Cada poleiro $pl$ só tem um pombo $p$\n",
    "\n",
    ">Ou seja para cada pombo $p$:\n",
    "$$\n",
    "\\bigvee_{pl=0}^{N-2} d_{p,pl}\n",
    "$$\n",
    "\\\n",
    "$$\n",
    "\\bigwedge_{i=0}^{N-2} d_{p,i} \\rightarrow \\bigwedge_{j=i+1}^{N-2} \\neg d_{p,j}\n",
    "$$\n",
    "\\\n",
    ">E para cada poleiro $pl$:\n",
    "\\\n",
    "$$\n",
    "\\bigwedge_{i=0}^{N-2} d_{i,pl} \\rightarrow \\bigwedge_{j=i+1}^{N-2} \\neg d_{j,pl}\n",
    "$$    \n",
    "    "
   ]
  },
  {
   "cell_type": "code",
   "execution_count": 2,
   "metadata": {},
   "outputs": [
    {
     "data": {
      "text/plain": [
       "'Impossivel'"
      ]
     },
     "execution_count": 2,
     "metadata": {},
     "output_type": "execute_result"
    }
   ],
   "source": [
    "from z3 import *\n",
    "def testaPosibilidadeLP(n):\n",
    "    s=Solver()\n",
    "    np=n-1 #numero de poleiros \n",
    "    d={} \n",
    "    for p in range(n):\n",
    "        d[p]={}\n",
    "        for pl in range(np):\n",
    "            d[p][pl]=Bool(\"d_\"+str(p)+\",\"+str(pl))\n",
    "            \n",
    "    #cada pombo tem um poleiro        \n",
    "    for p in range(n):\n",
    "        s.add(Or([d[p][pl] for pl in range(np)]))\n",
    "        \n",
    "    #cada pombo so tem um poleiro    \n",
    "    for p in range(n):\n",
    "        for i in range(np):\n",
    "            s.add(Implies(d[p][i],And([Not(d[p][j]) for j in range(i+1,np)])))\n",
    "            \n",
    "    #cada poleiro so tem um pombo                                         \n",
    "    for p in range(n):\n",
    "        for pl in range(np):\n",
    "            s.add(Implies(d[p][pl],And([Not(d[i][pl]) for i in range(p+1,n)])))  \n",
    "            \n",
    "    if s.check() == sat:\n",
    "        return \"Possivel\"\n",
    "    else:\n",
    "        return \"Impossivel\"\n",
    "    \n",
    "testaPosibilidadeLP(4)"
   ]
  },
  {
   "cell_type": "markdown",
   "metadata": {},
   "source": [
    "\n",
    "b. Para provar que não e possivel colocar $N$ pombos  em  $N-1$ poleiros de pombos de forma a que cada pombo  ocupe totalmente um poleiro. Em lógica inteira linear usamos programação inteira, ou seja, as variaveis inteiras são binarias onde a variavel $d_{p,pl}$ determina se o pombo $p$ vai para o poleiro $pl$\n",
    " \n",
    ">- Cada pombo$p$ só deve ter um poleiro $pl$\n",
    "\\\n",
    "$$ \\forall_p \\cdot \\sum_{pl} d[p][pl] = 1$$ \n",
    ">- Cada poleiro $pl$ deve ter no maximo um pombo$p$.\n",
    "\\\n",
    "    $$ \\forall_pl \\cdot \\sum_{p} d[p][pl] <= 1$$ "
   ]
  },
  {
   "cell_type": "code",
   "execution_count": 2,
   "metadata": {},
   "outputs": [
    {
     "data": {
      "text/plain": [
       "'Impossivel'"
      ]
     },
     "execution_count": 2,
     "metadata": {},
     "output_type": "execute_result"
    }
   ],
   "source": [
    "from z3 import *\n",
    "def testaPosibilidadeLIL(n):\n",
    "    s=Solver()\n",
    "    np=n-1  #numero de poleiros\n",
    "    d={} \n",
    "    \n",
    "    for p in range(n):\n",
    "        d[p]={}\n",
    "        for pl in range(np):\n",
    "            d[p][pl]=Int(\"Pombo_\"+str(pl)+\",Pombal_\"+str(pl))\n",
    "            #os pomboS tem de estar num poleiro valido\n",
    "            s.add(And(d[p][pl]>=0,d[p][pl]<=1))\n",
    "            \n",
    "    #Cada poleiro deve ter no maximo um pombo\n",
    "    \n",
    "    for pl in range(np):\n",
    "        s.add(Sum([d[p][pl] for p in range(n)])<=1)\n",
    "        \n",
    "    #cada pombo sÓ deve ter um poleiro\n",
    "    \n",
    "    for p in range(n):\n",
    "        s.add(Sum([d[p][pl] for pl in range(np)])==1)\n",
    "                  \n",
    "            \n",
    "    if s.check() == sat:\n",
    "        return \"Possivel\"\n",
    "    else:\n",
    "        return \"Impossivel\"\n",
    "        \n",
    "testaPosibilidadeLIL(7)"
   ]
  },
  {
   "cell_type": "markdown",
   "metadata": {},
   "source": [
    "B. "
   ]
  },
  {
   "cell_type": "code",
   "execution_count": 3,
   "metadata": {},
   "outputs": [
    {
     "data": {
      "image/png": "[encoded data removed]",
      "text/plain": [
       "<Figure size 432x288 with 1 Axes>"
      ]
     },
     "metadata": {
      "needs_background": "light"
     },
     "output_type": "display_data"
    }
   ],
   "source": [
    "from z3 import *\n",
    "from timeit import timeit\n",
    "import matplotlib.pyplot as plot\n",
    "def temposexecucaoLP(n):\n",
    "    tempos=[]                  #lista com os tempos de execução\n",
    "    for i in range(1,n+1):\n",
    "        tempo=timeit(setup=\"from __main__ import testaPosibilidadeLP\",\\\n",
    "                    stmt=\"testaPosibilidadeLP(\"+str(i)+\")\",number=1)\n",
    "        tempos.append(tempo)\n",
    "    return tempos\n",
    "\n",
    "n=11\n",
    "tempos= temposexecucaoLP(n)\n",
    "x=range(1,n+1)\n",
    "plot.plot(x,tempos)\n",
    "plot.ylabel(\"segundos\")\n",
    "plot.xlabel(\"nºpombos\")\n",
    "plot.show()"
   ]
  },
  {
   "cell_type": "markdown",
   "metadata": {},
   "source": [
    ">    Na solução utilizando a lógica proposional a complexidade é $n^3$, pois temos como complexidade do pior caso $2(n^3)+2(n^2)$ ,logo $O(testaPosibilidadeLP(N))=N^3$."
   ]
  },
  {
   "cell_type": "code",
   "execution_count": 3,
   "metadata": {},
   "outputs": [
    {
     "data": {
      "image/png": "[encoded data removed]",
      "text/plain": [
       "<Figure size 432x288 with 1 Axes>"
      ]
     },
     "metadata": {
      "needs_background": "light"
     },
     "output_type": "display_data"
    }
   ],
   "source": [
    "from z3 import *\n",
    "from timeit import timeit\n",
    "import matplotlib.pyplot as plot\n",
    "def temposexecucaoLIL(n):\n",
    "    tempos=[] #lista com os tempos de execoçao\n",
    "    for i in range(1,n+1):\n",
    "        tempo=timeit(setup=\"from __main__ import testaPosibilidadeLIL\",\\\n",
    "                    stmt=\"testaPosibilidadeLIL(\"+str(i)+\")\",number=1)\n",
    "        tempos.append(tempo)\n",
    "    return tempos\n",
    "n=50 \n",
    "tempos= temposexecucaoLIL(n)\n",
    "x=range(1,n+1)\n",
    "plot.plot(x,tempos)\n",
    "plot.ylabel(\"segundos\")\n",
    "plot.xlabel(\"nºpombos\")\n",
    "plot.show()"
   ]
  },
  {
   "cell_type": "markdown",
   "metadata": {},
   "source": [
    ">Na solução utilizando a lógica inteira linear a complexidade é $n^2$, pois temos como complexidade do pior caso $3(n^2)$ ,logo $O(testaPosibilidadeLIL(N))=N^2$ "
   ]
  },
  {
   "cell_type": "markdown",
   "metadata": {},
   "source": [
    "### Conclusão:\n",
    "\n",
    "> Neste exercício, achamos que conseguimos obter uma solução do problema que consegue de facto cumprir os objetivos pretendidos.\n",
    "<br> \\\n",
    "> Mais uma vez, achamos que o mais \"complicado\" poderá ter sido, o processo para adoptar os requisitos necessário a ter no código em fórmulas proposicionais, apartir daqui torna-se muito mais fácil criar esta solução.\n",
    "<br> \\\n",
    "> Depois na segunda parte do exercício, conseguimos obter a conclusão de que a função testaPosibilidadeLIL é mais eficiente do que a da alínea anterior (testaPosibilidadeLP), conseguimos verificar isto pelas complexidades de cada um nos seus piores casos. Enquanto que na solução utilizando lógica inteira linear, o pior caso é $3(n^2)$, utilizando a lógica proposicional, o pior caso já se demonstra como sendo $2(n^3)+2(n^2)$.\n",
    "<br> \\\n",
    "> Achamos que o exercício foi concluído com bastante sucesso e que, sobretudo, conseguimos adotar uma solução que cumpre todos os requisitos do problema! "
   ]
  }
 ],
 "metadata": {
  "kernelspec": {
   "display_name": "Python 3",
   "language": "python",
   "name": "python3"
  },
  "language_info": {
   "codemirror_mode": {
    "name": "ipython",
    "version": 3
   },
   "file_extension": ".py",
   "mimetype": "text/x-python",
   "name": "python",
   "nbconvert_exporter": "python",
   "pygments_lexer": "ipython3",
   "version": "3.8.3"
  }
 },
 "nbformat": 4,
 "nbformat_minor": 4
}
